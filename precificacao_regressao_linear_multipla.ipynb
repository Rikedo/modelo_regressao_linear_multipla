{
 "cells": [
  {
   "cell_type": "markdown",
   "metadata": {},
   "source": [
    "# 1 - Introdução"
   ]
  },
  {
   "cell_type": "markdown",
   "metadata": {},
   "source": [
    "O objetivo do projeto é apresentar um modelo de regressão linear múltipla com código sucinto e uma explicação clara aplicada para predição da variável 'SalePrice' à partir do dataset 'Daegu_Real_Estate_data.csv'. A base apresenta os preços de venda da cidade de Daegu, Coréia do Sul, entre o período de agosto de 2007 e agosto de 2017. Dataset retirado da plataforma Kaggle: https://www.kaggle.com/gunhee/koreahousedata.\n",
    "\n",
    "Comentários e sugestões são bem vindos.\n",
    "\n",
    "O projeto está dividido nas seguintes seções:\n",
    "\n",
    "1 - Introdução\n",
    "\n",
    "2 - Importação de bibliotecas\n",
    "\n",
    "3 - Carregamento de dados\n",
    "\n",
    "4 - Tratamento de dados\n",
    "\n",
    "    4.1 - Transformação em variável dummy\n",
    "    4.2 - Transformação logarítimica\n",
    "    4.3 - Definição de variáveis\n",
    "    4.4 - Divisão do dataset em linhas de teste e de treino\n",
    "     \n",
    "\n",
    "5 - Treinamento do modelo\n",
    "\n",
    "6 - Métricas de performance\n",
    "\n",
    "7 - Conclusão\n",
    "\n",
    "8 - Referências"
   ]
  },
  {
   "cell_type": "markdown",
   "metadata": {},
   "source": [
    "# 2 - Importação de bibliotecas"
   ]
  },
  {
   "cell_type": "code",
   "execution_count": 1,
   "metadata": {},
   "outputs": [],
   "source": [
    "import pandas as pd\n",
    "import numpy as np\n",
    "\n",
    "from sklearn import metrics as m\n",
    "from sklearn import linear_model as lm\n",
    "from sklearn import model_selection as ms\n",
    "from sklearn.metrics import r2_score \n",
    "from sklearn.metrics import mean_squared_error"
   ]
  },
  {
   "cell_type": "markdown",
   "metadata": {},
   "source": [
    "# 3 - Carregamento da base de dados"
   ]
  },
  {
   "cell_type": "code",
   "execution_count": 2,
   "metadata": {},
   "outputs": [],
   "source": [
    "df = pd.read_csv ('Daegu_Real_Estate_data.csv')"
   ]
  },
  {
   "cell_type": "markdown",
   "metadata": {},
   "source": [
    "# 4 - Tratamento de dados"
   ]
  },
  {
   "cell_type": "markdown",
   "metadata": {},
   "source": [
    "### 4.1 - Tranformação em variáveis dummy "
   ]
  },
  {
   "cell_type": "markdown",
   "metadata": {},
   "source": [
    "Tranformação das variáveis qualitativas para variáveis dummy"
   ]
  },
  {
   "cell_type": "code",
   "execution_count": 31,
   "metadata": {},
   "outputs": [],
   "source": [
    "hallway_dummy = pd.get_dummies(df['HallwayType']).iloc[:,1:]"
   ]
  },
  {
   "cell_type": "code",
   "execution_count": 32,
   "metadata": {},
   "outputs": [],
   "source": [
    "heating_dummy = pd.get_dummies(df['HeatingType']).iloc[:,1:]"
   ]
  },
  {
   "cell_type": "code",
   "execution_count": 33,
   "metadata": {},
   "outputs": [],
   "source": [
    "aptmanage_dummy = pd.get_dummies(df['AptManageType']).iloc[:,1:]"
   ]
  },
  {
   "cell_type": "code",
   "execution_count": 34,
   "metadata": {},
   "outputs": [],
   "source": [
    "busstop_dummy = pd.get_dummies(df['TimeToBusStop']).iloc[:,1:]"
   ]
  },
  {
   "cell_type": "code",
   "execution_count": 35,
   "metadata": {},
   "outputs": [],
   "source": [
    "timetosubwaystation_dummy = pd.get_dummies(df['TimeToSubway']).iloc[:,1:]"
   ]
  },
  {
   "cell_type": "code",
   "execution_count": 36,
   "metadata": {},
   "outputs": [],
   "source": [
    "subway_dummy = pd.get_dummies(df['SubwayStation']).iloc[:,1:]"
   ]
  },
  {
   "cell_type": "markdown",
   "metadata": {},
   "source": [
    "### 4.2 - Tranformação logarítimica "
   ]
  },
  {
   "cell_type": "markdown",
   "metadata": {},
   "source": [
    "Tranformação das variáveis numéricas em logarítimos na base 10"
   ]
  },
  {
   "cell_type": "code",
   "execution_count": 50,
   "metadata": {},
   "outputs": [],
   "source": [
    "df1 = df.drop(['SalePrice', 'HallwayType', 'HeatingType', 'AptManageType', 'TimeToBusStop', 'TimeToSubway', 'SubwayStation'], axis=1)"
   ]
  },
  {
   "cell_type": "code",
   "execution_count": 51,
   "metadata": {},
   "outputs": [],
   "source": [
    "df2 = df1.loc[:,'YearBuilt':'N_FacilitiesNearBy(Total)'].apply(lambda x : np.log10(x+1))"
   ]
  },
  {
   "cell_type": "markdown",
   "metadata": {},
   "source": [
    "### 4.3 - Definição de variáveis "
   ]
  },
  {
   "cell_type": "markdown",
   "metadata": {},
   "source": [
    "Definição da variável a ser predita e das variáveis a serem usadas na predição (variáveis dependente e indepentes) "
   ]
  },
  {
   "cell_type": "code",
   "execution_count": 52,
   "metadata": {},
   "outputs": [],
   "source": [
    "df3 = pd.concat([df2, hallway_dummy, heating_dummy, aptmanage_dummy, busstop_dummy, timetosubwaystation_dummy, subway_dummy], axis = 1)"
   ]
  },
  {
   "cell_type": "code",
   "execution_count": 43,
   "metadata": {},
   "outputs": [],
   "source": [
    "x = df3\n",
    "y = df['SalePrice'].copy()\n",
    "\n",
    "x_train = df3\n",
    "y_train = df['SalePrice'].copy()"
   ]
  },
  {
   "cell_type": "markdown",
   "metadata": {},
   "source": [
    "### 4.4 - Divisão do dataset em linhas de teste e de treino"
   ]
  },
  {
   "cell_type": "markdown",
   "metadata": {},
   "source": [
    "Visando evitar o overfitting (evitar que o modelo \"decore\" as respostas) 70% das linhas da base 'Daegu_Real_Estate_data.csv' foram separadas para treino e 30% para teste"
   ]
  },
  {
   "cell_type": "code",
   "execution_count": 44,
   "metadata": {},
   "outputs": [],
   "source": [
    "x_train, x_test, y_train, y_test = ms.train_test_split(x, y, test_size = 0.3, random_state = 19)"
   ]
  },
  {
   "cell_type": "markdown",
   "metadata": {},
   "source": [
    "# 5 - Treinamento de modelo"
   ]
  },
  {
   "cell_type": "code",
   "execution_count": 45,
   "metadata": {},
   "outputs": [
    {
     "data": {
      "text/plain": [
       "LinearRegression()"
      ]
     },
     "execution_count": 45,
     "metadata": {},
     "output_type": "execute_result"
    }
   ],
   "source": [
    "model = lm.LinearRegression()\n",
    "model.fit(x_train, y_train)"
   ]
  },
  {
   "cell_type": "code",
   "execution_count": 46,
   "metadata": {},
   "outputs": [],
   "source": [
    "pred_train = model.predict(x_train)\n",
    "pred_test = model.predict(x_test)"
   ]
  },
  {
   "cell_type": "markdown",
   "metadata": {},
   "source": [
    "# 6 - Métricas de performance"
   ]
  },
  {
   "cell_type": "markdown",
   "metadata": {},
   "source": [
    "Métricas de performance usadas: Mean Absolute Error (MAE), Mean Absolute Percentage Error (MAPE), Mean Squared Error (MSE), R Mean Squared Error (RMSE), R - quadrado (R2) "
   ]
  },
  {
   "cell_type": "code",
   "execution_count": 47,
   "metadata": {},
   "outputs": [],
   "source": [
    "#Training\n",
    "\n",
    "mae_train = m.mean_absolute_error(y_train, pred_train )\n",
    "mape_train = np.mean(np.abs((y_train - pred_train)/ y_train))\n",
    "MSE_train = mean_squared_error(y_train,pred_train)\n",
    "RMSE_train = mean_squared_error(y_train,pred_train,squared=False) \n",
    "R2_train = r2_score(y_train,pred_train)\n",
    "\n",
    "#Test\n",
    "\n",
    "mae_test = m.mean_absolute_error(y_test, pred_test )\n",
    "mape_test = np.mean(np.abs((y_test - pred_test)/ y_test))\n",
    "MSE_test = mean_squared_error(y_test,pred_test)\n",
    "RMSE_test = mean_squared_error(y_test,pred_test,squared=False) \n",
    "R2_test = r2_score(y_test,pred_test)"
   ]
  },
  {
   "cell_type": "code",
   "execution_count": 48,
   "metadata": {},
   "outputs": [
    {
     "data": {
      "text/html": [
       "<div>\n",
       "<style scoped>\n",
       "    .dataframe tbody tr th:only-of-type {\n",
       "        vertical-align: middle;\n",
       "    }\n",
       "\n",
       "    .dataframe tbody tr th {\n",
       "        vertical-align: top;\n",
       "    }\n",
       "\n",
       "    .dataframe thead th {\n",
       "        text-align: right;\n",
       "    }\n",
       "</style>\n",
       "<table border=\"1\" class=\"dataframe\">\n",
       "  <thead>\n",
       "    <tr style=\"text-align: right;\">\n",
       "      <th></th>\n",
       "      <th>Dataframe</th>\n",
       "      <th>MAE</th>\n",
       "      <th>MAPE</th>\n",
       "      <th>MSE</th>\n",
       "      <th>RMSE</th>\n",
       "      <th>R2</th>\n",
       "    </tr>\n",
       "  </thead>\n",
       "  <tbody>\n",
       "    <tr>\n",
       "      <th>0</th>\n",
       "      <td>Treino</td>\n",
       "      <td>25709.309241</td>\n",
       "      <td>0.151679</td>\n",
       "      <td>1.136968e+09</td>\n",
       "      <td>33718.951163</td>\n",
       "      <td>0.899669</td>\n",
       "    </tr>\n",
       "    <tr>\n",
       "      <th>1</th>\n",
       "      <td>Teste</td>\n",
       "      <td>26538.293552</td>\n",
       "      <td>0.148853</td>\n",
       "      <td>1.229190e+09</td>\n",
       "      <td>35059.800702</td>\n",
       "      <td>0.890915</td>\n",
       "    </tr>\n",
       "  </tbody>\n",
       "</table>\n",
       "</div>"
      ],
      "text/plain": [
       "  Dataframe           MAE      MAPE           MSE          RMSE        R2\n",
       "0    Treino  25709.309241  0.151679  1.136968e+09  33718.951163  0.899669\n",
       "1     Teste  26538.293552  0.148853  1.229190e+09  35059.800702  0.890915"
      ]
     },
     "execution_count": 48,
     "metadata": {},
     "output_type": "execute_result"
    }
   ],
   "source": [
    "data = {\n",
    "    'Dataframe': ['Treino', 'Teste'],\n",
    "    'MAE': [mae_train, mae_test],\n",
    "    'MAPE': [mape_train, mape_test],\n",
    "    'MSE': [MSE_train, MSE_test],\n",
    "    'RMSE': [RMSE_train, RMSE_test],\n",
    "    'R2': [R2_train, R2_test]}\n",
    "\n",
    "pd.DataFrame(data)"
   ]
  },
  {
   "cell_type": "markdown",
   "metadata": {},
   "source": [
    "# 7 - Conclusão"
   ]
  },
  {
   "cell_type": "markdown",
   "metadata": {},
   "source": [
    "Os dados de teste do modelo apresentaram performance de 14,88% de Mean Average Percentage Error e R-quadrado de 0.89 \n",
    "\n",
    "À partir das alterações feitas na etapa de tratamento de dados, pode-se constatar que a tranformação das variáveis qualitativas em variáveis dummy e a transformação das variáveis numéricas em logarítimicas reduziram a métrica de MAPE em 0,0216 e aumentaram a métrica de R2 em 0,0380 em relação a uma regressão linear simples sem tratamento de dados*\n",
    "\n",
    "Como próximos passos para a melhora de performance, pode ser feito uma análise de correlção entre as variáveis dependentes para evitar o problema da multicolinearidade\n",
    "\n",
    "*Resultado das métricas de performance da aplicação da regresssão linear simples sem tratamento de dados não foi colocada, a fim de tornar a apresentação mais sucinta "
   ]
  },
  {
   "cell_type": "markdown",
   "metadata": {},
   "source": [
    "# 8 -  Referências"
   ]
  },
  {
   "cell_type": "markdown",
   "metadata": {},
   "source": [
    "https://www.kaggle.com/samuelsferreira/house-prices-passo-a-passo-brazilian-\n",
    "\n",
    "https://www.kaggle.com/janiobachmann/house-prices-useful-regression-techniques\n",
    "\n",
    "https://www.youtube.com/watch?v=tsVWd6I5nuk\n",
    "\n",
    "https://www.kaggle.com/fedi1996/house-prices-data-cleaning-viz-and-modeling\n",
    "\n",
    "https://medium.com/turing-talks/como-avaliar-seu-modelo-de-regress%C3%A3o-c2c8d73dab96\n",
    "\n",
    "https://www.researchgate.net/publication/331441290_Modelo_de_regressao_linear_multipla_para_avaliacao_do_valor_de_mercado_de_apartamentos_residenciais_em_Fortaleza_CE/fulltext/5c796908299bf1268d308e20/Modelo-de-regressao-linear-multipla-para-avaliacao-do-valor-de-mercado-de-apartamentos-residenciais-em-Fortaleza-CE.pdf?origin=publication_detail"
   ]
  }
 ],
 "metadata": {
  "kernelspec": {
   "display_name": "Python 3",
   "language": "python",
   "name": "python3"
  },
  "language_info": {
   "codemirror_mode": {
    "name": "ipython",
    "version": 3
   },
   "file_extension": ".py",
   "mimetype": "text/x-python",
   "name": "python",
   "nbconvert_exporter": "python",
   "pygments_lexer": "ipython3",
   "version": "3.8.5"
  }
 },
 "nbformat": 4,
 "nbformat_minor": 4
}
